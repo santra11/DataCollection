{
 "cells": [
  {
   "cell_type": "markdown",
   "id": "de088358",
   "metadata": {},
   "source": [
    "#### Top OPPO mobile phones under 15k"
   ]
  },
  {
   "cell_type": "markdown",
   "id": "41f33d0d",
   "metadata": {},
   "source": [
    "### In this notebook we will do the webscrapping for mobile phone which are of price under 15K. To do this we will use a for loop to scrap the pages."
   ]
  },
  {
   "cell_type": "code",
   "execution_count": 1,
   "id": "33237c53",
   "metadata": {},
   "outputs": [],
   "source": [
    "#import the following libraries\n",
    "import requests\n",
    "import pandas as pd\n",
    "from bs4 import BeautifulSoup"
   ]
  },
  {
   "cell_type": "code",
   "execution_count": 2,
   "id": "2a5c9f72",
   "metadata": {},
   "outputs": [],
   "source": [
    "# Create the empty lists\n",
    "Rating=[]\n",
    "name_ph=[]\n",
    "num_rate=[]\n",
    "RAM=[]\n",
    "ROM=[]\n",
    "Prices=[]"
   ]
  },
  {
   "cell_type": "code",
   "execution_count": 3,
   "id": "324e7c5d",
   "metadata": {
    "scrolled": false
   },
   "outputs": [],
   "source": [
    "# Scrap 3 pages from the site\n",
    "for i in range(1, 4):\n",
    "    url=\"https://www.flipkart.com/search?q=oppo+mobile&otracker=search&otracker1=search&marketplace=FLIPKART&as-show=on&as=off&page=\"+str(i)\n",
    "    response = requests.get(url)\n",
    "    soup = BeautifulSoup(response.content, \"html.parser\")\n",
    "    data=soup.find_all(\"div\", class_=\"_2kHMtA\" )\n",
    "    \n",
    "    for item in data:\n",
    "        name = item.find(\"div\", class_=\"_4rR01T\").text\n",
    "        rating=item.find(\"div\", class_=\"_3LWZlK\").text.strip()\n",
    "        number_rate=item.find(\"span\", class_=\"_2_R_DZ\").text.strip().split()[0]\n",
    "        ram=item.find(\"li\", class_=\"rgWa7D\").text.split(\"|\")[0].strip(' RAM')\n",
    "        rom=item.find(\"li\", class_=\"rgWa7D\").text.split(\"|\")[1].strip(' ROM')\n",
    "        price=item.find(\"div\", class_=\"_30jeq3 _1_WHN1\").text.strip('₹').replace(',', '')\n",
    "    \n",
    "        name_ph.append(name)\n",
    "        Rating.append(rating)\n",
    "        num_rate.append(number_rate)\n",
    "        RAM.append(ram)\n",
    "        ROM.append(rom)\n",
    "        Prices.append(price)"
   ]
  },
  {
   "cell_type": "code",
   "execution_count": 4,
   "id": "542fb1ab",
   "metadata": {
    "scrolled": true
   },
   "outputs": [
    {
     "data": {
      "text/plain": [
       "['OPPO F21 Pro (Sunset Orange, 128 GB)',\n",
       " 'OPPO A17 (Midnight Black, 64 GB)',\n",
       " 'OPPO A17 (Lake Blue, 64 GB)',\n",
       " 'OPPO A17 (Lake Blue, 64 GB)',\n",
       " 'OPPO Reno8T 5G (Midnight Black, 128 GB)',\n",
       " 'OPPO Reno8T 5G (Sunrise Gold, 128 GB)',\n",
       " 'OPPO A17 (Sunlight Orange, 64 GB)',\n",
       " 'OPPO A78 5G (Glowing Blue, 128 GB)',\n",
       " 'OPPO A78 5G (Glowing Black, 128 GB)',\n",
       " 'OPPO A17k (Blue, 64 GB)',\n",
       " 'OPPO A17k (Navy Blue, 64 GB)',\n",
       " 'OPPO A17K (Navy Blue, 64 GB)',\n",
       " 'OPPO A17K (Gold, 64 GB)',\n",
       " 'OPPO F21s Pro 5G (Dawnlight Gold, 128 GB)',\n",
       " 'OPPO A57 (Glowing Gold, 64 GB)',\n",
       " 'OPPO A74 5G (Fantastic Purple, 128 GB)',\n",
       " 'OPPO F19s (Glowing Gold, 128 GB)',\n",
       " 'OPPO A16E (White, 64 GB)',\n",
       " 'OPPO A76 (Glowing Blue, 128 GB)',\n",
       " 'OPPO A77 (Sky Blue, 64 GB)',\n",
       " 'OPPO A77s (Sunset Orange, 128 GB)',\n",
       " 'OPPO A57 (Glowing Green, 64 GB)',\n",
       " 'OPPO K10 5G (Midnight Black, 128 GB)',\n",
       " 'OPPO K10 5G (Ocean Blue, 128 GB)',\n",
       " 'OPPO A57 (Glowing Black, 64 GB)',\n",
       " 'OPPO F21s Pro (Starlight Black, 128 GB)',\n",
       " 'OPPO A16E (White, 32 GB)',\n",
       " 'OPPO A16E (Midnight Black, 32 GB)',\n",
       " 'OPPO A55 (Mint Green, 128 GB)',\n",
       " 'OPPO A57 (Green, 64 GB)',\n",
       " 'OPPO K10 (Blue Flame, 128 GB)',\n",
       " 'OPPO F21S PRO (Dawnlight Gold, 128 GB)',\n",
       " 'OPPO K10 (Black Carbon, 128 GB)',\n",
       " 'OPPO A55 (Starry Black, 128 GB)',\n",
       " 'OPPO A77 (Sunset Orange, 128 GB)',\n",
       " 'OPPO A31 (Fantasy White, 128 GB)',\n",
       " 'OPPO A77 (Sky Blue, 128 GB)',\n",
       " 'OPPO A 78 5G (Glowing Black, 128 GB)',\n",
       " 'OPPO Reno8 5G (Shimmer Black, 128 GB)',\n",
       " 'OPPO Reno8 5G (Shimmer Gold, 128 GB)',\n",
       " 'OPPO F19s (Glowing Black, 128 GB)',\n",
       " 'OPPO A17k (Gold, 64 GB)',\n",
       " 'OPPO Reno6 5G (Aurora, 128 GB)',\n",
       " 'OPPO A15s (Dynamic Black, 128 GB)',\n",
       " 'OPPO A55 (Rainbow Blue, 64 GB)',\n",
       " 'OPPO A55 (Starry Black, 64 GB)',\n",
       " 'OPPO A96 (Starry Black, 128 GB)',\n",
       " 'OPPO A74 5G BLACK (Fluid Black, 128 GB)',\n",
       " 'OPPO Reno6 5G (Stellar Black, 128 GB)',\n",
       " 'OPPO F19 Pro+ 5G (Space Silver, 128 GB)',\n",
       " 'OPPO A15S (Fancy white, 128 GB)',\n",
       " 'OPPO F19 Pro+ 5G (Fluid Black, 128 GB)',\n",
       " 'OPPO A31 (Mystery Black, 128 GB)',\n",
       " 'OPPO F19 (Prism Black, 128 GB)',\n",
       " 'OPPO A54 (Starry Blue, 128 GB)',\n",
       " 'OPPO F17 Pro (Magic Blue, 128 GB)',\n",
       " 'OPPO A54 (Crystal Black, 128 GB)',\n",
       " 'OPPO A96 (Sunset Blue, 128 GB)',\n",
       " 'OPPO F21SPRO (Orange, 128 GB)',\n",
       " 'OPPO Find N2 Flip (Moonlit Purple, 256 GB)',\n",
       " 'OPPO A16 (Crystal Black, 64 GB)',\n",
       " 'OPPO A16k (Black, 64 GB)',\n",
       " 'OPPO A16k (White, 32 GB)',\n",
       " 'OPPO A 57e (Green, 64 GB)',\n",
       " 'OPPO A15 (Dynamic Black, 32 GB)',\n",
       " 'OPPO A54 (Moonlight Gold, 64 GB)',\n",
       " 'OPPO A76 (Glowing Black, 128 GB)',\n",
       " 'OPPO F17 Pro (Matte Black, 128 GB)',\n",
       " 'OPPO A12 (Blue, 32 GB)',\n",
       " 'OPPO F21s Pro 5G (Starlight Black, 128 GB)',\n",
       " 'OPPO F21 Pro 5G (Rainbow Spectrum, 128 GB)',\n",
       " 'OPPO A12 (Deep Blue, 64 GB)']"
      ]
     },
     "execution_count": 4,
     "metadata": {},
     "output_type": "execute_result"
    }
   ],
   "source": [
    "name_ph"
   ]
  },
  {
   "cell_type": "code",
   "execution_count": 5,
   "id": "c03539a8",
   "metadata": {},
   "outputs": [
    {
     "data": {
      "text/plain": [
       "72"
      ]
     },
     "execution_count": 5,
     "metadata": {},
     "output_type": "execute_result"
    }
   ],
   "source": [
    "len(name_ph)"
   ]
  },
  {
   "cell_type": "code",
   "execution_count": 6,
   "id": "8d70eb38",
   "metadata": {
    "scrolled": true
   },
   "outputs": [
    {
     "data": {
      "text/plain": [
       "['8 GB',\n",
       " '4 GB',\n",
       " '4 GB',\n",
       " '4 GB',\n",
       " '8 GB',\n",
       " '8 GB',\n",
       " '4 GB',\n",
       " '8 GB',\n",
       " '8 GB',\n",
       " '3 GB',\n",
       " '3 GB',\n",
       " '3 GB',\n",
       " '3 GB',\n",
       " '8 GB',\n",
       " '4 GB',\n",
       " '6 GB',\n",
       " '6 GB',\n",
       " '4 GB',\n",
       " '6 GB',\n",
       " '4 GB',\n",
       " '8 GB',\n",
       " '4 GB',\n",
       " '8 GB',\n",
       " '8 GB',\n",
       " '4 GB',\n",
       " '8 GB',\n",
       " '3 GB',\n",
       " '3 GB',\n",
       " '4 GB',\n",
       " '4 GB',\n",
       " '6 GB',\n",
       " '8 GB',\n",
       " '6 GB',\n",
       " '4 GB',\n",
       " '4 GB',\n",
       " '6 GB',\n",
       " '4 GB',\n",
       " '8 GB',\n",
       " '8 GB',\n",
       " '8 GB',\n",
       " '6 GB',\n",
       " '3 GB',\n",
       " '8 GB',\n",
       " '4 GB',\n",
       " '4 GB',\n",
       " '4 GB',\n",
       " '8 GB',\n",
       " '6 GB',\n",
       " '8 GB',\n",
       " '8 GB',\n",
       " '4 GB',\n",
       " '8 GB',\n",
       " '6 GB',\n",
       " '6 GB',\n",
       " '6 GB',\n",
       " '8 GB',\n",
       " '6 GB',\n",
       " '8 GB',\n",
       " '8 GB',\n",
       " '8 GB',\n",
       " '4 GB',\n",
       " '4 GB',\n",
       " '3 GB',\n",
       " '4 GB',\n",
       " '3 GB',\n",
       " '4 GB',\n",
       " '6 GB',\n",
       " '8 GB',\n",
       " '3 GB',\n",
       " '8 GB',\n",
       " '8 GB',\n",
       " '4 GB']"
      ]
     },
     "execution_count": 6,
     "metadata": {},
     "output_type": "execute_result"
    }
   ],
   "source": [
    "RAM"
   ]
  },
  {
   "cell_type": "code",
   "execution_count": 7,
   "id": "4ee4cb91",
   "metadata": {
    "scrolled": true
   },
   "outputs": [
    {
     "data": {
      "text/plain": [
       "72"
      ]
     },
     "execution_count": 7,
     "metadata": {},
     "output_type": "execute_result"
    }
   ],
   "source": [
    "len(Rating)"
   ]
  },
  {
   "cell_type": "code",
   "execution_count": 8,
   "id": "165e2106",
   "metadata": {
    "scrolled": true
   },
   "outputs": [
    {
     "data": {
      "text/plain": [
       "['20999',\n",
       " '12499',\n",
       " '12499',\n",
       " '12198',\n",
       " '29999',\n",
       " '29999',\n",
       " '12499',\n",
       " '18098',\n",
       " '17849',\n",
       " '9499',\n",
       " '9499',\n",
       " '9388',\n",
       " '9289',\n",
       " '24895',\n",
       " '16990',\n",
       " '17999',\n",
       " '15490',\n",
       " '10990',\n",
       " '16490',\n",
       " '15499',\n",
       " '17999',\n",
       " '13999',\n",
       " '17499',\n",
       " '17499',\n",
       " '13999',\n",
       " '20890',\n",
       " '9990',\n",
       " '9990',\n",
       " '13999',\n",
       " '13449',\n",
       " '14990',\n",
       " '20990',\n",
       " '14990',\n",
       " '13999',\n",
       " '15999',\n",
       " '12990',\n",
       " '15999',\n",
       " '18500',\n",
       " '29999',\n",
       " '29999',\n",
       " '16990',\n",
       " '9499',\n",
       " '29990',\n",
       " '13500',\n",
       " '14489',\n",
       " '14489',\n",
       " '17989',\n",
       " '17990',\n",
       " '29990',\n",
       " '19990',\n",
       " '12999',\n",
       " '19990',\n",
       " '14090',\n",
       " '14990',\n",
       " '14776',\n",
       " '19990',\n",
       " '13250',\n",
       " '17999',\n",
       " '20949',\n",
       " '89999',\n",
       " '12990',\n",
       " '10999',\n",
       " '9489',\n",
       " '13979',\n",
       " '10990',\n",
       " '14440',\n",
       " '16490',\n",
       " '19990',\n",
       " '9990',\n",
       " '24749',\n",
       " '26990',\n",
       " '10990']"
      ]
     },
     "execution_count": 8,
     "metadata": {},
     "output_type": "execute_result"
    }
   ],
   "source": [
    "Prices"
   ]
  },
  {
   "cell_type": "code",
   "execution_count": 9,
   "id": "3c26988f",
   "metadata": {
    "scrolled": false
   },
   "outputs": [
    {
     "data": {
      "text/plain": [
       "['OPPO F21 Pro (Sunset Orange, 128 GB)',\n",
       " 'OPPO A17 (Midnight Black, 64 GB)',\n",
       " 'OPPO A17 (Lake Blue, 64 GB)',\n",
       " 'OPPO A17 (Lake Blue, 64 GB)',\n",
       " 'OPPO Reno8T 5G (Midnight Black, 128 GB)',\n",
       " 'OPPO Reno8T 5G (Sunrise Gold, 128 GB)',\n",
       " 'OPPO A17 (Sunlight Orange, 64 GB)',\n",
       " 'OPPO A78 5G (Glowing Blue, 128 GB)',\n",
       " 'OPPO A78 5G (Glowing Black, 128 GB)',\n",
       " 'OPPO A17k (Blue, 64 GB)',\n",
       " 'OPPO A17k (Navy Blue, 64 GB)',\n",
       " 'OPPO A17K (Navy Blue, 64 GB)',\n",
       " 'OPPO A17K (Gold, 64 GB)',\n",
       " 'OPPO F21s Pro 5G (Dawnlight Gold, 128 GB)',\n",
       " 'OPPO A57 (Glowing Gold, 64 GB)',\n",
       " 'OPPO A74 5G (Fantastic Purple, 128 GB)',\n",
       " 'OPPO F19s (Glowing Gold, 128 GB)',\n",
       " 'OPPO A16E (White, 64 GB)',\n",
       " 'OPPO A76 (Glowing Blue, 128 GB)',\n",
       " 'OPPO A77 (Sky Blue, 64 GB)',\n",
       " 'OPPO A77s (Sunset Orange, 128 GB)',\n",
       " 'OPPO A57 (Glowing Green, 64 GB)',\n",
       " 'OPPO K10 5G (Midnight Black, 128 GB)',\n",
       " 'OPPO K10 5G (Ocean Blue, 128 GB)',\n",
       " 'OPPO A57 (Glowing Black, 64 GB)',\n",
       " 'OPPO F21s Pro (Starlight Black, 128 GB)',\n",
       " 'OPPO A16E (White, 32 GB)',\n",
       " 'OPPO A16E (Midnight Black, 32 GB)',\n",
       " 'OPPO A55 (Mint Green, 128 GB)',\n",
       " 'OPPO A57 (Green, 64 GB)',\n",
       " 'OPPO K10 (Blue Flame, 128 GB)',\n",
       " 'OPPO F21S PRO (Dawnlight Gold, 128 GB)',\n",
       " 'OPPO K10 (Black Carbon, 128 GB)',\n",
       " 'OPPO A55 (Starry Black, 128 GB)',\n",
       " 'OPPO A77 (Sunset Orange, 128 GB)',\n",
       " 'OPPO A31 (Fantasy White, 128 GB)',\n",
       " 'OPPO A77 (Sky Blue, 128 GB)',\n",
       " 'OPPO A 78 5G (Glowing Black, 128 GB)',\n",
       " 'OPPO Reno8 5G (Shimmer Black, 128 GB)',\n",
       " 'OPPO Reno8 5G (Shimmer Gold, 128 GB)',\n",
       " 'OPPO F19s (Glowing Black, 128 GB)',\n",
       " 'OPPO A17k (Gold, 64 GB)',\n",
       " 'OPPO Reno6 5G (Aurora, 128 GB)',\n",
       " 'OPPO A15s (Dynamic Black, 128 GB)',\n",
       " 'OPPO A55 (Rainbow Blue, 64 GB)',\n",
       " 'OPPO A55 (Starry Black, 64 GB)',\n",
       " 'OPPO A96 (Starry Black, 128 GB)',\n",
       " 'OPPO A74 5G BLACK (Fluid Black, 128 GB)',\n",
       " 'OPPO Reno6 5G (Stellar Black, 128 GB)',\n",
       " 'OPPO F19 Pro+ 5G (Space Silver, 128 GB)',\n",
       " 'OPPO A15S (Fancy white, 128 GB)',\n",
       " 'OPPO F19 Pro+ 5G (Fluid Black, 128 GB)',\n",
       " 'OPPO A31 (Mystery Black, 128 GB)',\n",
       " 'OPPO F19 (Prism Black, 128 GB)',\n",
       " 'OPPO A54 (Starry Blue, 128 GB)',\n",
       " 'OPPO F17 Pro (Magic Blue, 128 GB)',\n",
       " 'OPPO A54 (Crystal Black, 128 GB)',\n",
       " 'OPPO A96 (Sunset Blue, 128 GB)',\n",
       " 'OPPO F21SPRO (Orange, 128 GB)',\n",
       " 'OPPO Find N2 Flip (Moonlit Purple, 256 GB)',\n",
       " 'OPPO A16 (Crystal Black, 64 GB)',\n",
       " 'OPPO A16k (Black, 64 GB)',\n",
       " 'OPPO A16k (White, 32 GB)',\n",
       " 'OPPO A 57e (Green, 64 GB)',\n",
       " 'OPPO A15 (Dynamic Black, 32 GB)',\n",
       " 'OPPO A54 (Moonlight Gold, 64 GB)',\n",
       " 'OPPO A76 (Glowing Black, 128 GB)',\n",
       " 'OPPO F17 Pro (Matte Black, 128 GB)',\n",
       " 'OPPO A12 (Blue, 32 GB)',\n",
       " 'OPPO F21s Pro 5G (Starlight Black, 128 GB)',\n",
       " 'OPPO F21 Pro 5G (Rainbow Spectrum, 128 GB)',\n",
       " 'OPPO A12 (Deep Blue, 64 GB)']"
      ]
     },
     "execution_count": 9,
     "metadata": {},
     "output_type": "execute_result"
    }
   ],
   "source": [
    "name_ph"
   ]
  },
  {
   "cell_type": "code",
   "execution_count": 10,
   "id": "580580c9",
   "metadata": {},
   "outputs": [
    {
     "data": {
      "text/plain": [
       "72"
      ]
     },
     "execution_count": 10,
     "metadata": {},
     "output_type": "execute_result"
    }
   ],
   "source": [
    "len(Rating)"
   ]
  },
  {
   "cell_type": "code",
   "execution_count": 11,
   "id": "0ef0817f",
   "metadata": {
    "scrolled": false
   },
   "outputs": [
    {
     "data": {
      "text/html": [
       "<div>\n",
       "<style scoped>\n",
       "    .dataframe tbody tr th:only-of-type {\n",
       "        vertical-align: middle;\n",
       "    }\n",
       "\n",
       "    .dataframe tbody tr th {\n",
       "        vertical-align: top;\n",
       "    }\n",
       "\n",
       "    .dataframe thead th {\n",
       "        text-align: right;\n",
       "    }\n",
       "</style>\n",
       "<table border=\"1\" class=\"dataframe\">\n",
       "  <thead>\n",
       "    <tr style=\"text-align: right;\">\n",
       "      <th></th>\n",
       "      <th>Names</th>\n",
       "      <th>Ratings</th>\n",
       "      <th>num_ratings</th>\n",
       "      <th>RAM</th>\n",
       "      <th>ROM</th>\n",
       "      <th>Prices</th>\n",
       "    </tr>\n",
       "  </thead>\n",
       "  <tbody>\n",
       "    <tr>\n",
       "      <th>0</th>\n",
       "      <td>OPPO F21 Pro (Sunset Orange, 128 GB)</td>\n",
       "      <td>4.4</td>\n",
       "      <td>3,713</td>\n",
       "      <td>8 GB</td>\n",
       "      <td>128 GB</td>\n",
       "      <td>20999</td>\n",
       "    </tr>\n",
       "    <tr>\n",
       "      <th>1</th>\n",
       "      <td>OPPO A17 (Midnight Black, 64 GB)</td>\n",
       "      <td>4.4</td>\n",
       "      <td>4,547</td>\n",
       "      <td>4 GB</td>\n",
       "      <td>64 GB</td>\n",
       "      <td>12499</td>\n",
       "    </tr>\n",
       "    <tr>\n",
       "      <th>2</th>\n",
       "      <td>OPPO A17 (Lake Blue, 64 GB)</td>\n",
       "      <td>4.4</td>\n",
       "      <td>4,547</td>\n",
       "      <td>4 GB</td>\n",
       "      <td>64 GB</td>\n",
       "      <td>12499</td>\n",
       "    </tr>\n",
       "    <tr>\n",
       "      <th>3</th>\n",
       "      <td>OPPO A17 (Lake Blue, 64 GB)</td>\n",
       "      <td>4.4</td>\n",
       "      <td>4,547</td>\n",
       "      <td>4 GB</td>\n",
       "      <td>64 GB</td>\n",
       "      <td>12198</td>\n",
       "    </tr>\n",
       "    <tr>\n",
       "      <th>4</th>\n",
       "      <td>OPPO Reno8T 5G (Midnight Black, 128 GB)</td>\n",
       "      <td>4.3</td>\n",
       "      <td>6,664</td>\n",
       "      <td>8 GB</td>\n",
       "      <td>128 GB</td>\n",
       "      <td>29999</td>\n",
       "    </tr>\n",
       "  </tbody>\n",
       "</table>\n",
       "</div>"
      ],
      "text/plain": [
       "                                     Names Ratings num_ratings   RAM     ROM  \\\n",
       "0     OPPO F21 Pro (Sunset Orange, 128 GB)     4.4       3,713  8 GB  128 GB   \n",
       "1         OPPO A17 (Midnight Black, 64 GB)     4.4       4,547  4 GB   64 GB   \n",
       "2              OPPO A17 (Lake Blue, 64 GB)     4.4       4,547  4 GB   64 GB   \n",
       "3              OPPO A17 (Lake Blue, 64 GB)     4.4       4,547  4 GB   64 GB   \n",
       "4  OPPO Reno8T 5G (Midnight Black, 128 GB)     4.3       6,664  8 GB  128 GB   \n",
       "\n",
       "  Prices  \n",
       "0  20999  \n",
       "1  12499  \n",
       "2  12499  \n",
       "3  12198  \n",
       "4  29999  "
      ]
     },
     "execution_count": 11,
     "metadata": {},
     "output_type": "execute_result"
    }
   ],
   "source": [
    "#Create the dataframe\n",
    "data = pd.DataFrame()\n",
    "data['Names'] = name_ph\n",
    "data['Ratings'] = Rating\n",
    "data['num_ratings']=num_rate\n",
    "data['RAM'] = RAM\n",
    "data['ROM'] = ROM\n",
    "data['Prices']=Prices\n",
    "data.head()"
   ]
  },
  {
   "cell_type": "code",
   "execution_count": 12,
   "id": "0e7da527",
   "metadata": {},
   "outputs": [
    {
     "data": {
      "text/plain": [
       "(72, 6)"
      ]
     },
     "execution_count": 12,
     "metadata": {},
     "output_type": "execute_result"
    }
   ],
   "source": [
    "data.shape"
   ]
  },
  {
   "cell_type": "code",
   "execution_count": null,
   "id": "38592a4d",
   "metadata": {},
   "outputs": [],
   "source": []
  },
  {
   "cell_type": "code",
   "execution_count": null,
   "id": "cf0b17e7",
   "metadata": {},
   "outputs": [],
   "source": []
  }
 ],
 "metadata": {
  "kernelspec": {
   "display_name": "env",
   "language": "python",
   "name": "env"
  },
  "language_info": {
   "codemirror_mode": {
    "name": "ipython",
    "version": 3
   },
   "file_extension": ".py",
   "mimetype": "text/x-python",
   "name": "python",
   "nbconvert_exporter": "python",
   "pygments_lexer": "ipython3",
   "version": "3.10.6"
  }
 },
 "nbformat": 4,
 "nbformat_minor": 5
}
