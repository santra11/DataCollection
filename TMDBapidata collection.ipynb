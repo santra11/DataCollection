{
 "cells": [
  {
   "cell_type": "markdown",
   "id": "e7ed4d3b",
   "metadata": {},
   "source": [
    "## How to collect data from tmdb movies using API"
   ]
  },
  {
   "cell_type": "code",
   "execution_count": 1,
   "id": "37927fcf",
   "metadata": {},
   "outputs": [],
   "source": [
    "import tmdbsimple as tmdb\n",
    "import requests\n",
    "import pandas as pd\n",
    "import os\n",
    "\n",
    "api_key=os.environ.get('API_KEY')"
   ]
  },
  {
   "cell_type": "code",
   "execution_count": 2,
   "id": "cf5c5b7c",
   "metadata": {},
   "outputs": [],
   "source": [
    "dfs = []  # create an empty list to store the dataframes\n",
    "for i in range(1,500):\n",
    "    response = requests.get('https://api.themoviedb.org/3/movie/top_rated?api_key=' +api_key+ '&language=en-US&page=()')\n",
    "    temp_df = pd.DataFrame(response.json()['results'], columns=list(response.json()['results'][0].keys()))\n",
    "    dfs.append(temp_df)  # append each dataframe to the list"
   ]
  },
  {
   "cell_type": "code",
   "execution_count": 3,
   "id": "c90241d5",
   "metadata": {
    "scrolled": true
   },
   "outputs": [],
   "source": [
    "df = pd.concat(dfs, ignore_index=True)  # concatenate all dataframes in the list into one"
   ]
  },
  {
   "cell_type": "code",
   "execution_count": 4,
   "id": "2d8f881a",
   "metadata": {
    "scrolled": true
   },
   "outputs": [
    {
     "data": {
      "text/plain": [
       "(9980, 14)"
      ]
     },
     "execution_count": 4,
     "metadata": {},
     "output_type": "execute_result"
    }
   ],
   "source": [
    "# Find the shape of the dataframe\n",
    "df.shape"
   ]
  },
  {
   "cell_type": "code",
   "execution_count": 5,
   "id": "5e5601c8",
   "metadata": {
    "scrolled": false
   },
   "outputs": [],
   "source": [
    "#response.json()"
   ]
  },
  {
   "cell_type": "code",
   "execution_count": 6,
   "id": "714ef6d8",
   "metadata": {
    "scrolled": false
   },
   "outputs": [],
   "source": [
    "#cols=list(response.json()['results'][0].keys())\n",
    "#cols"
   ]
  },
  {
   "cell_type": "code",
   "execution_count": 7,
   "id": "0e95a4d4",
   "metadata": {},
   "outputs": [],
   "source": [
    "df.to_csv('movietmdb.csv', index=False)"
   ]
  },
  {
   "cell_type": "code",
   "execution_count": 8,
   "id": "c98ea2ef",
   "metadata": {},
   "outputs": [],
   "source": [
    "df=pd.read_csv('movietmdb.csv')"
   ]
  },
  {
   "cell_type": "code",
   "execution_count": 9,
   "id": "80e14556",
   "metadata": {
    "scrolled": true
   },
   "outputs": [
    {
     "data": {
      "text/html": [
       "<div>\n",
       "<style scoped>\n",
       "    .dataframe tbody tr th:only-of-type {\n",
       "        vertical-align: middle;\n",
       "    }\n",
       "\n",
       "    .dataframe tbody tr th {\n",
       "        vertical-align: top;\n",
       "    }\n",
       "\n",
       "    .dataframe thead th {\n",
       "        text-align: right;\n",
       "    }\n",
       "</style>\n",
       "<table border=\"1\" class=\"dataframe\">\n",
       "  <thead>\n",
       "    <tr style=\"text-align: right;\">\n",
       "      <th></th>\n",
       "      <th>adult</th>\n",
       "      <th>backdrop_path</th>\n",
       "      <th>genre_ids</th>\n",
       "      <th>id</th>\n",
       "      <th>original_language</th>\n",
       "      <th>original_title</th>\n",
       "      <th>overview</th>\n",
       "      <th>popularity</th>\n",
       "      <th>poster_path</th>\n",
       "      <th>release_date</th>\n",
       "      <th>title</th>\n",
       "      <th>video</th>\n",
       "      <th>vote_average</th>\n",
       "      <th>vote_count</th>\n",
       "    </tr>\n",
       "  </thead>\n",
       "  <tbody>\n",
       "    <tr>\n",
       "      <th>0</th>\n",
       "      <td>False</td>\n",
       "      <td>/tmU7GeKVybMWFButWEGl2M4GeiP.jpg</td>\n",
       "      <td>[18, 80]</td>\n",
       "      <td>238</td>\n",
       "      <td>en</td>\n",
       "      <td>The Godfather</td>\n",
       "      <td>Spanning the years 1945 to 1955, a chronicle o...</td>\n",
       "      <td>108.277</td>\n",
       "      <td>/3bhkrj58Vtu7enYsRolD1fZdja1.jpg</td>\n",
       "      <td>1972-03-14</td>\n",
       "      <td>The Godfather</td>\n",
       "      <td>False</td>\n",
       "      <td>8.7</td>\n",
       "      <td>17736</td>\n",
       "    </tr>\n",
       "    <tr>\n",
       "      <th>1</th>\n",
       "      <td>False</td>\n",
       "      <td>/iNh3BivHyg5sQRPP1KOkzguEX0H.jpg</td>\n",
       "      <td>[18, 80]</td>\n",
       "      <td>278</td>\n",
       "      <td>en</td>\n",
       "      <td>The Shawshank Redemption</td>\n",
       "      <td>Framed in the 1940s for the double murder of h...</td>\n",
       "      <td>93.441</td>\n",
       "      <td>/q6y0Go1tsGEsmtFryDOJo3dEmqu.jpg</td>\n",
       "      <td>1994-09-23</td>\n",
       "      <td>The Shawshank Redemption</td>\n",
       "      <td>False</td>\n",
       "      <td>8.7</td>\n",
       "      <td>23591</td>\n",
       "    </tr>\n",
       "    <tr>\n",
       "      <th>2</th>\n",
       "      <td>False</td>\n",
       "      <td>/ejniJnlOdtSgtbh8D7u2RxT6Uli.jpg</td>\n",
       "      <td>[35, 14]</td>\n",
       "      <td>772071</td>\n",
       "      <td>es</td>\n",
       "      <td>Cuando Sea Joven</td>\n",
       "      <td>70-year-old Malena gets a second chance at lif...</td>\n",
       "      <td>30.534</td>\n",
       "      <td>/6gIJuFHh5Lj4dNaPG3TzIMl7L68.jpg</td>\n",
       "      <td>2022-09-14</td>\n",
       "      <td>Cuando Sea Joven</td>\n",
       "      <td>False</td>\n",
       "      <td>8.6</td>\n",
       "      <td>213</td>\n",
       "    </tr>\n",
       "    <tr>\n",
       "      <th>3</th>\n",
       "      <td>False</td>\n",
       "      <td>/kGzFbGhp99zva6oZODW5atUtnqi.jpg</td>\n",
       "      <td>[18, 80]</td>\n",
       "      <td>240</td>\n",
       "      <td>en</td>\n",
       "      <td>The Godfather Part II</td>\n",
       "      <td>In the continuing saga of the Corleone crime f...</td>\n",
       "      <td>61.840</td>\n",
       "      <td>/hek3koDUyRQk7FIhPXsa6mT2Zc3.jpg</td>\n",
       "      <td>1974-12-20</td>\n",
       "      <td>The Godfather Part II</td>\n",
       "      <td>False</td>\n",
       "      <td>8.6</td>\n",
       "      <td>10741</td>\n",
       "    </tr>\n",
       "    <tr>\n",
       "      <th>4</th>\n",
       "      <td>False</td>\n",
       "      <td>/zb6fM1CX41D9rF9hdgclu0peUmy.jpg</td>\n",
       "      <td>[18, 36, 10752]</td>\n",
       "      <td>424</td>\n",
       "      <td>en</td>\n",
       "      <td>Schindler's List</td>\n",
       "      <td>The true story of how businessman Oskar Schind...</td>\n",
       "      <td>45.614</td>\n",
       "      <td>/sF1U4EUQS8YHUYjNl3pMGNIQyr0.jpg</td>\n",
       "      <td>1993-12-15</td>\n",
       "      <td>Schindler's List</td>\n",
       "      <td>False</td>\n",
       "      <td>8.6</td>\n",
       "      <td>13951</td>\n",
       "    </tr>\n",
       "  </tbody>\n",
       "</table>\n",
       "</div>"
      ],
      "text/plain": [
       "   adult                     backdrop_path        genre_ids      id  \\\n",
       "0  False  /tmU7GeKVybMWFButWEGl2M4GeiP.jpg         [18, 80]     238   \n",
       "1  False  /iNh3BivHyg5sQRPP1KOkzguEX0H.jpg         [18, 80]     278   \n",
       "2  False  /ejniJnlOdtSgtbh8D7u2RxT6Uli.jpg         [35, 14]  772071   \n",
       "3  False  /kGzFbGhp99zva6oZODW5atUtnqi.jpg         [18, 80]     240   \n",
       "4  False  /zb6fM1CX41D9rF9hdgclu0peUmy.jpg  [18, 36, 10752]     424   \n",
       "\n",
       "  original_language            original_title  \\\n",
       "0                en             The Godfather   \n",
       "1                en  The Shawshank Redemption   \n",
       "2                es          Cuando Sea Joven   \n",
       "3                en     The Godfather Part II   \n",
       "4                en          Schindler's List   \n",
       "\n",
       "                                            overview  popularity  \\\n",
       "0  Spanning the years 1945 to 1955, a chronicle o...     108.277   \n",
       "1  Framed in the 1940s for the double murder of h...      93.441   \n",
       "2  70-year-old Malena gets a second chance at lif...      30.534   \n",
       "3  In the continuing saga of the Corleone crime f...      61.840   \n",
       "4  The true story of how businessman Oskar Schind...      45.614   \n",
       "\n",
       "                        poster_path release_date                     title  \\\n",
       "0  /3bhkrj58Vtu7enYsRolD1fZdja1.jpg   1972-03-14             The Godfather   \n",
       "1  /q6y0Go1tsGEsmtFryDOJo3dEmqu.jpg   1994-09-23  The Shawshank Redemption   \n",
       "2  /6gIJuFHh5Lj4dNaPG3TzIMl7L68.jpg   2022-09-14          Cuando Sea Joven   \n",
       "3  /hek3koDUyRQk7FIhPXsa6mT2Zc3.jpg   1974-12-20     The Godfather Part II   \n",
       "4  /sF1U4EUQS8YHUYjNl3pMGNIQyr0.jpg   1993-12-15          Schindler's List   \n",
       "\n",
       "   video  vote_average  vote_count  \n",
       "0  False           8.7       17736  \n",
       "1  False           8.7       23591  \n",
       "2  False           8.6         213  \n",
       "3  False           8.6       10741  \n",
       "4  False           8.6       13951  "
      ]
     },
     "execution_count": 9,
     "metadata": {},
     "output_type": "execute_result"
    }
   ],
   "source": [
    "df.head()"
   ]
  },
  {
   "cell_type": "code",
   "execution_count": 10,
   "id": "0b962bcb",
   "metadata": {},
   "outputs": [
    {
     "data": {
      "text/plain": [
       "en    6487\n",
       "ja    1497\n",
       "es     499\n",
       "hi     499\n",
       "ko     499\n",
       "it     499\n",
       "Name: original_language, dtype: int64"
      ]
     },
     "execution_count": 10,
     "metadata": {},
     "output_type": "execute_result"
    }
   ],
   "source": [
    "df.original_language.value_counts()"
   ]
  },
  {
   "cell_type": "code",
   "execution_count": 16,
   "id": "8e38a75f",
   "metadata": {
    "scrolled": true
   },
   "outputs": [
    {
     "data": {
      "image/png": "[encoded data removed]",
      "text/plain": [
       "<Figure size 640x480 with 1 Axes>"
      ]
     },
     "metadata": {},
     "output_type": "display_data"
    }
   ],
   "source": [
    "from matplotlib import pyplot as plt\n",
    "\n",
    "ax=df.original_language.value_counts().plot.bar()\n",
    "\n",
    "for container in ax.containers:\n",
    "    ax.bar_label(container)"
   ]
  }
 ],
 "metadata": {
  "kernelspec": {
   "display_name": "env",
   "language": "python",
   "name": "env"
  },
  "language_info": {
   "codemirror_mode": {
    "name": "ipython",
    "version": 3
   },
   "file_extension": ".py",
   "mimetype": "text/x-python",
   "name": "python",
   "nbconvert_exporter": "python",
   "pygments_lexer": "ipython3",
   "version": "3.10.6"
  }
 },
 "nbformat": 4,
 "nbformat_minor": 5
}
